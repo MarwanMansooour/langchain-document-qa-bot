{
 "cells": [
  {
   "cell_type": "code",
   "execution_count": null,
   "metadata": {
    "colab": {
     "base_uri": "https://localhost:8080/"
    },
    "id": "K3YOLkRDzAzF",
    "outputId": "f093c563-daf9-4455-cb2c-d5f8e9ea0aa9"
   },
   "outputs": [],
   "source": [
    "!pip install langchain langchain-community langchainhub chromadb pypdf sentence-transformers langchain-groq\n"
   ]
  },
  {
   "cell_type": "code",
   "execution_count": null,
   "metadata": {
    "id": "gWBvK6MezrnN"
   },
   "outputs": [],
   "source": [
    "import os\n",
    "from google.colab import files\n",
    "from langchain_community.document_loaders import PyPDFLoader, TextLoader\n",
    "from langchain.text_splitter import RecursiveCharacterTextSplitter\n",
    "from langchain_community.embeddings import HuggingFaceEmbeddings\n",
    "from langchain.vectorstores import Chroma\n",
    "from langchain.chains import RetrievalQA\n",
    "from langchain_groq import ChatGroq"
   ]
  },
  {
   "cell_type": "code",
   "execution_count": null,
   "metadata": {
    "id": "a9ocAe4Pzunx"
   },
   "outputs": [],
   "source": [
    "os.environ[\"GROQ_API_KEY\"] = \"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\""
   ]
  },
  {
   "cell_type": "code",
   "execution_count": null,
   "metadata": {
    "id": "uqEAdgx2zx1j"
   },
   "outputs": [],
   "source": [
    "def load_and_process_document():\n",
    "    \"\"\"\n",
    "    Uploads and processes a valid PDF or TXT file. Retries until successful.\n",
    "    \"\"\"\n",
    "    global qa_chain\n",
    "\n",
    "    while True:\n",
    "        try:\n",
    "            print(\"📤 Please upload a .pdf or .txt file:\")\n",
    "            uploaded = files.upload()\n",
    "            file_path = list(uploaded.keys())[0]\n",
    "            print(f\"📁 Uploaded: {file_path}\")\n",
    "\n",
    "            # Validate file extension\n",
    "            if file_path.endswith(\".pdf\"):\n",
    "                loader = PyPDFLoader(file_path)\n",
    "            elif file_path.endswith(\".txt\"):\n",
    "                loader = TextLoader(file_path)\n",
    "            else:\n",
    "                raise ValueError(\"❌ Invalid file type. Only .pdf and .txt are supported.\")\n",
    "\n",
    "            # Load and chunk\n",
    "            documents = loader.load()\n",
    "            splitter = RecursiveCharacterTextSplitter(chunk_size=500, chunk_overlap=100)\n",
    "            chunks = splitter.split_documents(documents)\n",
    "            print(f\"📄 Loaded and split into {len(chunks)} chunks.\")\n",
    "\n",
    "            # Embed\n",
    "            embedding_model = HuggingFaceEmbeddings(model_name=\"all-MiniLM-L6-v2\")\n",
    "            vectordb = Chroma.from_documents(chunks, embedding=embedding_model, persist_directory=\"./db\")\n",
    "            retriever = vectordb.as_retriever()\n",
    "\n",
    "            # LLM\n",
    "            llm = ChatGroq(model=\"llama3-70b-8192\")\n",
    "\n",
    "            # Chain\n",
    "            qa_chain = RetrievalQA.from_chain_type(\n",
    "                llm=llm,\n",
    "                chain_type=\"stuff\",\n",
    "                retriever=retriever,\n",
    "                return_source_documents=True\n",
    "            )\n",
    "\n",
    "            print(\"✅ Document processed and ready for Q&A.\")\n",
    "            break  # exit loop on success\n",
    "\n",
    "        except ValueError as ve:\n",
    "            print(str(ve))\n",
    "            print(\"🔁 Let's try uploading again...\\n\")\n",
    "        except Exception as e:\n",
    "            print(\"⚠️ Unexpected error:\", str(e))\n",
    "            print(\"🔁 Try uploading a different file.\\n\")\n",
    "\n"
   ]
  },
  {
   "cell_type": "code",
   "execution_count": null,
   "metadata": {
    "colab": {
     "base_uri": "https://localhost:8080/",
     "height": 955,
     "referenced_widgets": [
      "6ea350edbc054941b09c036dc129d20b",
      "fa09791882df4d02be5ac352c68e6a2d",
      "7814fcac5b19489581a009b2ad2cb903",
      "ecaaf32dd0e04e199b8e41e0c3ac275a",
      "23c06064f54f42629ad6b1a2b919171e",
      "64c86fb6e4264ec0817018c7459f75c2",
      "306f4b0c01d8469a9929e99ff3c7909a",
      "75bbceb016154334b95cf56e18ac2e33",
      "fbbb4f095d8d4095bb39068b69f9c2ac",
      "8ec99b1dad044c7c83d7570ede01f9fb",
      "08010cee5e25449184299f75a18e67d6",
      "cad482f445c24908af185320665b38c0",
      "af51c3470441433691865fa117e0e9d1",
      "0f75e971dccb40a897f3d48db8ad80c9",
      "2a24604c20254bc88d52abadf56d9c15",
      "b181be28cda8405293cbefb106746900",
      "c539f6c8d2d847d2a69f7bec02c04a79",
      "e629314ffc24477fb3b567d5b513b6b6",
      "7fc32df889ad4071a57c805cde8fa1d2",
      "7a3c31c6dac24dc3bc265799a7e15a95",
      "13e22d837ad04fea8eaab566d73e5203",
      "b9164e42ed8642d2826d4509bae975bb",
      "7bd164a30abf4c4cb8fa899bbc3b2c09",
      "287d74cf76a344df887158b2e9f1e07c",
      "0d8fe2b528ae4a068246ee97d9305495",
      "97831aefed494e6bbc444efc7736cf7e",
      "c4a8c8b4e9844e3eaadebc64d5ad55cf",
      "78da269a9c92492588b24dd8c299cd94",
      "985b60bf77554a56a69d7bb6e66bf7dc",
      "8356346571cf4aea885c052b032e459b",
      "a6fefa5850e0416d9070264b981bfacc",
      "526dc754058c471ba69d31014704d00b",
      "9db68dbaa7d945afa4a37538fccba491",
      "4ad64005e7e2404cb021243d85d4c273",
      "f8d9b78930654ec8b67fde0b87becdfc",
      "45fe8eadc163446c8408a365ab14a3ae",
      "9ed15aa591da4a518dee4d3f89225154",
      "e688d8f163164ec59be32ad198961e22",
      "ed35b962942e4cec986e4ecef867cc21",
      "0aebe1e420554a8f891a9840bf6fa66f",
      "62c75217489d41b282b5866d69ccdf15",
      "15b122dbbd334be48b30af89075b9f7d",
      "4ccf63017b3a44d1bacc59900b35c9c5",
      "7cfba6072298410fa9cc316283d02cc1",
      "e84bc72157b6418b9bb4a9c856953649",
      "ec20619360954f9096d05b468d64ec2f",
      "e8bab601d39c4394be1ee59a5fceac59",
      "310ac4a82b2946978792bf9dce39b746",
      "11c909ce4b344c36b1c6c677c377b3c2",
      "b195775b75384135851dfdeee1f40974",
      "36828110e24641f9b4b232c60e3e1b80",
      "03fa1b7791a14dac98ae33670620d324",
      "17ff05b6444646b8869f82c2f2879d4f",
      "83d4838989b3485c8af80acc612ae891",
      "92acb3cf503740a5b56c064ad99724bc",
      "a9e970108f51474895a16a8cc78b907d",
      "9d2717c0d91d419b843c838150eda786",
      "c0ad05b0f31e4d3ab69b052547bff7b1",
      "23f555f3ca3d49929e21f1166c014d1e",
      "6e3fcf8f34c24398ae1b63c507cc4cdf",
      "6ed54de75ff14d728611f233cc60c46c",
      "2eb109fefc994ad9b02899b24de502a3",
      "1fbc7b0463694eb99801647b19ceb95f",
      "7fa3950f88af4820bab78eff1f4ebb93",
      "4c18fca8b5864822a5787650f39acd30",
      "1d739382a32b4ed6b34bbedda97a1f43",
      "303d9fb0c6f3410a918c715b2fb156a8",
      "dce82adfb49c47e3a6af6cec9fa50cf3",
      "860b9607de8e4fc884f630acc50272b3",
      "22368212dc0d4add9d6567df1db60d06",
      "2313098571fe4864941975ceb8cbc113",
      "77378385345d41188ee58d732dbb6079",
      "bbd44a899a7e441dabdae81cf9b65a0a",
      "4a187f9c6e0a401481ffd9ef9a14c0ee",
      "acb194db484146e9a264b4b5aac5d3eb",
      "b988b9fbf97e4648813fb65b1571e99d",
      "20a3fa2302984d2794b55b91e09c773b",
      "82a8aa4001a042c69450c6199d18d996",
      "4cc870c2ddcb44d1a17d7c09c3df0f4d",
      "6ae3e9ad20a24da4bf5e06cf997651d4",
      "aba0949bb3bf48e1bcda5f0c5b1b955a",
      "9af3572ceb184e75b6b2332af41d8ca1",
      "84473f5b88174cc981a0a29fbe14463d",
      "ac0a194fe8214aa396c7e22d60bf3a11",
      "aea702ddf87243c1bd23fede18852c11",
      "866d36f3790847149099c8de83e17a3e",
      "f1b73da5a156401182b1e62c2bab1bbe",
      "7779b1decec34b19a8836ba9603d6608",
      "8d1fe1286bad4fffb5e8b9efeeda6655",
      "237449d4ea9b43cea475df09faf0d312",
      "2d8f77fa02e2477cbea6aad340d6d992",
      "a43a8245749649f8a5c968eb34832247",
      "68aec7f9c90944fc92aa39440779c62f",
      "9a571f5a219d42b0bed56440dcf5bbb6",
      "3f903689eef748b5b14110615063145a",
      "80557080411c40cda7b0f02703d95a1d",
      "fe0b134827ed465c998b88ba76cfd97b",
      "06f31457b9b94c75ad82e8bfe7494356",
      "5a623c6176544b1eb2c9d28e36faabb5",
      "283bda42460b4c7a826b7040a5ab5359",
      "da1f8f236d1e43258e473de9811590b9",
      "4ccb210025274d95bbaa99638d7b9435",
      "4e3b8c382b554c809e9ad03cbf7656fe",
      "9b0ad187572942679ccad205cde84b91",
      "d5a41e8874b54404bb4601eb87785daf",
      "741b16fc5bcf4d0798a1a8846f483093",
      "d2b8c0b757874432909f543405864f06",
      "13a47b4935954f718db7e53d3a875414",
      "2b586936ea15464395aa2c5e2553baa6",
      "6bce4dab39e145eabc5760f18941773d",
      "e574e0e1dae142d6a9650d6cebe21f8c",
      "2690bb5f91ea45c29e9237ffd3f6e94b",
      "5a636dc81417431ba11d0e073c9afb4b",
      "7ec90a36413743c8ad5d076028d25b46",
      "d8a62641409f42608ea315af5a92b233",
      "2839b05c743249a0af91f7815e964f28",
      "89d50cad06e9483990e1f1d1f5fd4632",
      "4dd6efc47bf047079e62678052cf0e58",
      "02faae6f3f0541a1950c00df81beca0c",
      "341c3dc91e3f41e28aa5685fd8b4fc8e",
      "9540bf23c1d34a77b68959951b9f46bd"
     ]
    },
    "id": "SP8w6x_w0C9_",
    "outputId": "14bc938a-cd53-43a9-fae7-ea964fe5d7ff"
   },
   "outputs": [],
   "source": [
    "load_and_process_document()"
   ]
  },
  {
   "cell_type": "code",
   "execution_count": null,
   "metadata": {
    "colab": {
     "base_uri": "https://localhost:8080/",
     "height": 648
    },
    "id": "Hg1xUnmj1uTN",
    "outputId": "9807f06f-e5ac-4e6b-c0b3-35593f5ba293"
   },
   "outputs": [],
   "source": [
    "while True:\n",
    "    q = input(\"Ask a question ('new' to upload new file, 'exit' to quit): \")\n",
    "    if q.lower() == \"exit\":\n",
    "        print(\"👋 Exiting. Goodbye!\")\n",
    "        break\n",
    "    elif q.lower() == \"new\":\n",
    "        load_and_process_document()\n",
    "    else:\n",
    "        result = qa_chain({\"query\": q})\n",
    "        print(\"📌 Answer:\", result[\"result\"])\n"
   ]
  }
 ],
 "metadata": {
  "colab": {
   "provenance": []
  },
  "kernelspec": {
   "display_name": "Python 3",
   "name": "python3"
  },
  "language_info": {
   "name": "python"
  }
 },
 "nbformat": 4,
 "nbformat_minor": 0
}
